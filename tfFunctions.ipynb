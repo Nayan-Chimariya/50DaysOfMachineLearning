{
 "cells": [
  {
   "cell_type": "markdown",
   "id": "0727ddb7-20be-4358-930f-b143175dad36",
   "metadata": {},
   "source": [
    "### Some TensorFlow Functions"
   ]
  },
  {
   "cell_type": "markdown",
   "id": "030cd4cd-f14c-4014-9b36-23f7ce0ade55",
   "metadata": {},
   "source": [
    "`tf.expand_dims()`\\\n",
    "Used to expand the dimension of the tensor"
   ]
  },
  {
   "cell_type": "code",
   "execution_count": 1,
   "id": "7c4dfe2e-245c-45aa-9046-4cc35c14fccc",
   "metadata": {},
   "outputs": [],
   "source": [
    "import tensorflow as tf"
   ]
  },
  {
   "cell_type": "code",
   "execution_count": 8,
   "id": "e4123ad2-bb64-4691-8e2f-d1d3b4a9f807",
   "metadata": {},
   "outputs": [
    {
     "name": "stdout",
     "output_type": "stream",
     "text": [
      "(3,)\n",
      "(1, 3)\n"
     ]
    }
   ],
   "source": [
    "tensor_var = tf.constant([1,2,3])\n",
    "print(tensor_var.shape)\n",
    "tensor_var_expand = tf.expand_dims(tensor_var,axis=0)\n",
    "print(tensor_var_expand.shape)"
   ]
  },
  {
   "cell_type": "markdown",
   "id": "3b8e05da-8d8b-44e4-a085-105de664bce9",
   "metadata": {},
   "source": [
    "`tf.squeeze()`\\\n",
    "Used to squeeze the number of dimesions of the tensor"
   ]
  },
  {
   "cell_type": "code",
   "execution_count": 9,
   "id": "0feeafe5-5368-4785-9019-e9fe0d535536",
   "metadata": {},
   "outputs": [
    {
     "name": "stdout",
     "output_type": "stream",
     "text": [
      "tf.Tensor([1 2 3], shape=(3,), dtype=int32)\n"
     ]
    }
   ],
   "source": [
    "tensor_var_squeeze = tf.squeeze(tensor_var_expand)\n",
    "print(tensor_var_squeeze)"
   ]
  },
  {
   "cell_type": "markdown",
   "id": "f572ed13-bb01-46d3-8587-77fb9620a2b7",
   "metadata": {},
   "source": [
    "`tf.reshape()`\\\n",
    "Used to reshape the tensor by providing the order that must match the total number of elements in the tensor"
   ]
  },
  {
   "cell_type": "code",
   "execution_count": 10,
   "id": "5a31ab8a-c019-48ff-bc6b-fc0337afa7f5",
   "metadata": {},
   "outputs": [
    {
     "data": {
      "text/plain": [
       "<tf.Tensor: shape=(3, 1), dtype=int32, numpy=\n",
       "array([[1],\n",
       "       [2],\n",
       "       [3]], dtype=int32)>"
      ]
     },
     "execution_count": 10,
     "metadata": {},
     "output_type": "execute_result"
    }
   ],
   "source": [
    "# Here, the length of the tensor is 3, hence we need to provide the values that \n",
    "# when multiplied produces 3\n",
    "\n",
    "tf.reshape(tensor_var,[3,1])"
   ]
  },
  {
   "cell_type": "code",
   "execution_count": 26,
   "id": "27417484-799c-4141-bee8-a4b57880278a",
   "metadata": {},
   "outputs": [
    {
     "name": "stdout",
     "output_type": "stream",
     "text": [
      "\n",
      "1 dimension\n",
      " tf.Tensor([1 2 3 4], shape=(4,), dtype=int32)\n",
      "\n",
      "2*2 grid\n",
      " tf.Tensor(\n",
      "[[1 2]\n",
      " [3 4]], shape=(2, 2), dtype=int32)\n",
      "\n",
      "1*4 grid\n",
      " tf.Tensor([[1 2 3 4]], shape=(1, 4), dtype=int32)\n",
      "\n",
      "4*1 grid\n",
      " tf.Tensor(\n",
      "[[1]\n",
      " [2]\n",
      " [3]\n",
      " [4]], shape=(4, 1), dtype=int32)\n"
     ]
    }
   ],
   "source": [
    "# here, we have tensor with lenth 4. So, these are the ways we can reshape them\n",
    "\n",
    "tensor_var_2 = tf.constant([1,2,3,4])\n",
    "\n",
    "print (\"\\n1 dimension\\n\",tf.reshape(tensor_var_2, [4]))\n",
    "print (\"\\n2*2 grid\\n\",tf.reshape(tensor_var_2, [2,2]))\n",
    "print (\"\\n1*4 grid\\n\",tf.reshape(tensor_var_2, [1,4]))\n",
    "print (\"\\n4*1 grid\\n\",tf.reshape(tensor_var_2, [4,1]))"
   ]
  },
  {
   "cell_type": "markdown",
   "id": "fb885a4b-0c63-4ee0-98b9-60604d35c84a",
   "metadata": {},
   "source": [
    "`tf.concat`\\\n",
    "Used to concatinate tensors"
   ]
  },
  {
   "cell_type": "code",
   "execution_count": 37,
   "id": "122c8c95-62e8-425f-b140-f85a5497e407",
   "metadata": {},
   "outputs": [
    {
     "data": {
      "text/plain": [
       "<tf.Tensor: shape=(4, 2), dtype=int32, numpy=\n",
       "array([[1, 2],\n",
       "       [3, 4],\n",
       "       [1, 2],\n",
       "       [3, 4]], dtype=int32)>"
      ]
     },
     "execution_count": 37,
     "metadata": {},
     "output_type": "execute_result"
    }
   ],
   "source": [
    "t1 = tf.reshape(tensor_var_2,[2,2])\n",
    "tf.concat([t1,t1],axis=0)"
   ]
  },
  {
   "cell_type": "markdown",
   "id": "6f432a43-b8ff-4de2-93c0-9d1f46cb87af",
   "metadata": {},
   "source": [
    "`tf.stack()`\\\n",
    "Used to stack a tensor over other"
   ]
  },
  {
   "cell_type": "code",
   "execution_count": 38,
   "id": "a17eb5fd-fd49-4a47-9f26-47e490d01bea",
   "metadata": {},
   "outputs": [
    {
     "data": {
      "text/plain": [
       "<tf.Tensor: shape=(2, 2, 2), dtype=int32, numpy=\n",
       "array([[[1, 2],\n",
       "        [3, 4]],\n",
       "\n",
       "       [[1, 2],\n",
       "        [3, 4]]], dtype=int32)>"
      ]
     },
     "execution_count": 38,
     "metadata": {},
     "output_type": "execute_result"
    }
   ],
   "source": [
    "tf.stack([t1,t1],axis=0)"
   ]
  },
  {
   "cell_type": "markdown",
   "id": "18ee4ccb-83e8-4212-bd70-fc4d4211e763",
   "metadata": {},
   "source": [
    "`tf.pad()`\\\n",
    "Used for adding paddings around the tensor elements"
   ]
  },
  {
   "cell_type": "code",
   "execution_count": 50,
   "id": "7cb834ed-dd7d-4374-8b0f-2e191849b507",
   "metadata": {},
   "outputs": [
    {
     "data": {
      "text/plain": [
       "<tf.Tensor: shape=(6, 7), dtype=int32, numpy=\n",
       "array([[0, 0, 0, 0, 0, 0, 0],\n",
       "       [0, 0, 0, 0, 0, 0, 0],\n",
       "       [0, 0, 1, 2, 3, 0, 0],\n",
       "       [0, 0, 4, 5, 6, 0, 0],\n",
       "       [0, 0, 0, 0, 0, 0, 0],\n",
       "       [0, 0, 0, 0, 0, 0, 0]], dtype=int32)>"
      ]
     },
     "execution_count": 50,
     "metadata": {},
     "output_type": "execute_result"
    }
   ],
   "source": [
    "tensor = tf.constant([[1, 2, 3], [4, 5, 6]])\n",
    "paddings = tf.constant([[2, 2,], [2, 2]])\n",
    "\n",
    "tf.pad(tensor, paddings, \"CONSTANT\")"
   ]
  },
  {
   "cell_type": "code",
   "execution_count": null,
   "id": "fdbcacea-ef95-4e6f-99c2-2595d3388de3",
   "metadata": {},
   "outputs": [],
   "source": []
  }
 ],
 "metadata": {
  "kernelspec": {
   "display_name": "Python 3 (ipykernel)",
   "language": "python",
   "name": "python3"
  },
  "language_info": {
   "codemirror_mode": {
    "name": "ipython",
    "version": 3
   },
   "file_extension": ".py",
   "mimetype": "text/x-python",
   "name": "python",
   "nbconvert_exporter": "python",
   "pygments_lexer": "ipython3",
   "version": "3.10.13"
  }
 },
 "nbformat": 4,
 "nbformat_minor": 5
}
