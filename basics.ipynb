{
 "cells": [
  {
   "cell_type": "markdown",
   "id": "cef5aa12-b3fc-44c6-bfd3-2904a79ad30a",
   "metadata": {
    "jp-MarkdownHeadingCollapsed": true
   },
   "source": [
    "### What are Tensors?\n",
    "Tensors are multi-dimensional arrays with a uniform type (called a dtype ).\\\n",
    "They are immutable: you can never update the contents of a tensor, only create a new one."
   ]
  },
  {
   "cell_type": "markdown",
   "id": "6a48759c-4d76-4bbd-b381-3280e7ed66c0",
   "metadata": {},
   "source": [
    "### Creating Tensors in TensorFlow\n",
    "Using the `constant` method"
   ]
  },
  {
   "cell_type": "code",
   "execution_count": 15,
   "id": "29f0a705-f3e5-4829-9b56-1e3c132769a0",
   "metadata": {},
   "outputs": [
    {
     "name": "stdout",
     "output_type": "stream",
     "text": [
      "zero dimentional tensor:  tf.Tensor(4, shape=(), dtype=int32)\n",
      "\n",
      "one dimentional tensor:  tf.Tensor([1 2 3], shape=(3,), dtype=int32)\n",
      "\n",
      "two dimentional tensor:  tf.Tensor(\n",
      "[[ 1  2  3]\n",
      " [ 4  5  6]\n",
      " [-1 -2  6]], shape=(3, 3), dtype=int32)\n",
      "\n",
      "three dimentional tensor:  tf.Tensor(\n",
      "[[[ 1  2  3]\n",
      "  [ 4  5 -6]]\n",
      "\n",
      " [[ 1  2  3]\n",
      "  [ 4  5 -6]]], shape=(2, 2, 3), dtype=int32)\n",
      "\n",
      "four dimentional tensor:  tf.Tensor(\n",
      "[[[[ 1.  2.  3.]\n",
      "   [ 4.  5. -6.]]\n",
      "\n",
      "  [[ 1.  2.  3.]\n",
      "   [ 4.  5. -6.]]]\n",
      "\n",
      "\n",
      " [[[ 1.  2.  3.]\n",
      "   [ 4.  5. -6.]]\n",
      "\n",
      "  [[ 1.  2.  3.]\n",
      "   [ 4.  5. -6.]]]], shape=(2, 2, 2, 3), dtype=float32)\n"
     ]
    }
   ],
   "source": [
    "import tensorflow as tf\n",
    "\n",
    "tensor_zero_d = tf.constant(4)\n",
    "\n",
    "tensor_one_d = tf.constant([1,2,3])\n",
    "\n",
    "tensor_two_d = tf.constant([\n",
    "    [1,2,3],\n",
    "    [4,5,6],\n",
    "    [-1,-2,6]\n",
    "])\n",
    "\n",
    "tensor_three_d = tf.constant([\n",
    "    [\n",
    "        [1,2,3],\n",
    "        [4,5,-6]\n",
    "    ],\n",
    "\n",
    "    [\n",
    "        [1,2,3],\n",
    "        [4,5,-6]\n",
    "    ]\n",
    "])\n",
    "\n",
    "tensor_four_d = tf.constant(\n",
    "    [\n",
    "        [\n",
    "            [\n",
    "                [1,2,3],\n",
    "                [4,5,-6]\n",
    "            ],\n",
    "        \n",
    "            [\n",
    "                [1,2,3],\n",
    "                [4,5,-6]\n",
    "            ]\n",
    "        ],\n",
    "\n",
    "        [\n",
    "            [\n",
    "                [1,2,3],\n",
    "                [4,5,-6]\n",
    "            ],\n",
    "        \n",
    "            [\n",
    "                [1,2,3],\n",
    "                [4,5,-6.]\n",
    "            ]\n",
    "        ]\n",
    "    ]\n",
    ")\n",
    "\n",
    "print(f\"zero dimentional tensor: \",tensor_zero_d)\n",
    "print(f\"\\none dimentional tensor: \",tensor_one_d)\n",
    "print(f\"\\ntwo dimentional tensor: \",tensor_two_d)\n",
    "print(f\"\\nthree dimentional tensor: \",tensor_three_d)\n",
    "print(f\"\\nfour dimentional tensor: \",tensor_four_d)\n"
   ]
  },
  {
   "cell_type": "markdown",
   "id": "f1e451f8-d2b2-401a-9385-99ad050b6a31",
   "metadata": {},
   "source": [
    "### Displaying the properties of tensor\n",
    ". `dtype` -> Displays the type of data the tensor stores\\\n",
    ". `shape` -> Displays the shape of the tensor\\\n",
    ". `ndim`  -> Displays the dimension of the tensor"
   ]
  },
  {
   "cell_type": "code",
   "execution_count": 16,
   "id": "ba24e55f-7293-48c1-b314-d2e7c4375886",
   "metadata": {},
   "outputs": [
    {
     "name": "stdout",
     "output_type": "stream",
     "text": [
      "Data type stored by tensor_four_d :  <dtype: 'float32'>\n",
      "Shape of tensor_two_d :  (3, 3)\n",
      "Dimension of tensor_three_d :  3\n"
     ]
    }
   ],
   "source": [
    "print(\"Data type stored by tensor_four_d : \",tensor_four_d.dtype)\n",
    "print(\"Shape of tensor_two_d : \",tensor_two_d.shape)\n",
    "print(\"Dimension of tensor_three_d : \",tensor_three_d.ndim)\n"
   ]
  },
  {
   "cell_type": "markdown",
   "id": "df800c49-ad7e-440b-b9a0-c1cc68c6ebf4",
   "metadata": {},
   "source": [
    "### Changing the type of the data stored by the tensors\n",
    "Using `tf.cast`"
   ]
  },
  {
   "cell_type": "code",
   "execution_count": 17,
   "id": "b0d13337-452c-4a7d-bfe4-d0307a2f589c",
   "metadata": {},
   "outputs": [
    {
     "name": "stdout",
     "output_type": "stream",
     "text": [
      "Before Type Casting\n",
      " <dtype: 'float32'>\n",
      "\n",
      "After Type Casting\n",
      " <dtype: 'int32'>\n"
     ]
    }
   ],
   "source": [
    "print(\"Before Type Casting\\n\", tensor_four_d.dtype)\n",
    "tensor_four_d = tf.cast(tensor_four_d,tf.int32)\n",
    "print(\"\\nAfter Type Casting\\n\", tensor_four_d.dtype)"
   ]
  },
  {
   "cell_type": "markdown",
   "id": "7ed87cb2-3c6f-435e-abab-d87e240f825a",
   "metadata": {},
   "source": [
    "### Converting a Numpy array to tensor"
   ]
  },
  {
   "cell_type": "code",
   "execution_count": 18,
   "id": "73682f91-66dc-423c-86a1-5ec063440c4f",
   "metadata": {},
   "outputs": [],
   "source": [
    "import numpy as np"
   ]
  },
  {
   "cell_type": "code",
   "execution_count": 19,
   "id": "ad20c317-a54b-4a88-9231-7c65113f3d89",
   "metadata": {},
   "outputs": [
    {
     "name": "stdout",
     "output_type": "stream",
     "text": [
      "[2 3 4]\n",
      "\n",
      " tf.Tensor([2. 3. 4.], shape=(3,), dtype=float16)\n"
     ]
    }
   ],
   "source": [
    "np_array = np.array([2,3,4])\n",
    "print(np_array)\n",
    "\n",
    "tensor_np_array = tf.convert_to_tensor(np_array, dtype=tf.float16)\n",
    "print(\"\\n\",tensor_np_array)"
   ]
  },
  {
   "cell_type": "markdown",
   "id": "95e71d7a-6715-4e29-a148-751cc10f0ed2",
   "metadata": {},
   "source": [
    "### Other useful Methods"
   ]
  },
  {
   "cell_type": "markdown",
   "id": "224d991a-dca4-4c08-9af3-c27820b605af",
   "metadata": {},
   "source": [
    "`tf.eye` - Used to create a identity matrix tenor"
   ]
  },
  {
   "cell_type": "code",
   "execution_count": 20,
   "id": "709585f0-34bd-4fe4-942a-23e10bf9a352",
   "metadata": {},
   "outputs": [
    {
     "data": {
      "text/plain": [
       "<tf.Tensor: shape=(1, 3, 3), dtype=float32, numpy=\n",
       "array([[[1., 0., 0.],\n",
       "        [0., 1., 0.],\n",
       "        [0., 0., 1.]]], dtype=float32)>"
      ]
     },
     "execution_count": 20,
     "metadata": {},
     "output_type": "execute_result"
    }
   ],
   "source": [
    "tf.eye(\n",
    "    num_rows=3,\n",
    "    num_columns=None,\n",
    "    batch_shape=[1],\n",
    "    dtype=tf.dtypes.float32,\n",
    "    name=None\n",
    ")"
   ]
  },
  {
   "cell_type": "markdown",
   "id": "6bba4fb9-0a9c-4a9f-91bd-f66eec427a38",
   "metadata": {},
   "source": [
    "`tf.fill` - Used to create a tensor by defining the dimension and what value to be filled.\\\n",
    "The tensor will contain only the provided value"
   ]
  },
  {
   "cell_type": "code",
   "execution_count": 21,
   "id": "7a348a10-e66f-47aa-a9fe-ae3e102d17f5",
   "metadata": {},
   "outputs": [
    {
     "data": {
      "text/plain": [
       "<tf.Tensor: shape=(2, 3), dtype=int32, numpy=\n",
       "array([[1, 1, 1],\n",
       "       [1, 1, 1]], dtype=int32)>"
      ]
     },
     "execution_count": 21,
     "metadata": {},
     "output_type": "execute_result"
    }
   ],
   "source": [
    "tf.fill(\n",
    "    dims=[2,3], value=1, name=None, layout=None\n",
    ")"
   ]
  },
  {
   "cell_type": "markdown",
   "id": "0a7b7ee8-06b5-46df-a10b-19cebde78eeb",
   "metadata": {},
   "source": [
    "`tf.rank`- Returns the rank of a tensor.\n",
    "\n",
    "The rank of a tensor is not the same as the rank of a matrix.\\\n",
    "The rank of a tensor is the number of indices required to uniquely select each element of\\ the tensor. Rank is also known as \"order\", \"degree\", or \"ndims.\"\n"
   ]
  },
  {
   "cell_type": "code",
   "execution_count": 22,
   "id": "041a68c6-6a55-4c88-b6cf-cf095d4c000c",
   "metadata": {},
   "outputs": [
    {
     "data": {
      "text/plain": [
       "<tf.Tensor: shape=(), dtype=int32, numpy=4>"
      ]
     },
     "execution_count": 22,
     "metadata": {},
     "output_type": "execute_result"
    }
   ],
   "source": [
    "tf.rank(\n",
    "    input=tensor_four_d, name=None\n",
    ")\n",
    "\n",
    "#The rank is displayed in the numpy filed shown below\n",
    "#The shape is not shown as the method returns a 0D tensor"
   ]
  },
  {
   "cell_type": "markdown",
   "id": "a0acda74-16c8-4d5a-94ae-4a471d0f3507",
   "metadata": {},
   "source": [
    "`tf.size` - Returns the size of the tensor"
   ]
  },
  {
   "cell_type": "code",
   "execution_count": 23,
   "id": "6cfd7c5e-cbf4-4dc5-9107-61fa712d652f",
   "metadata": {},
   "outputs": [
    {
     "data": {
      "text/plain": [
       "<tf.Tensor: shape=(), dtype=int32, numpy=24>"
      ]
     },
     "execution_count": 23,
     "metadata": {},
     "output_type": "execute_result"
    }
   ],
   "source": [
    "tf.size(tensor_four_d)"
   ]
  },
  {
   "cell_type": "markdown",
   "id": "e36a9dd4-2cf4-40d3-9ec1-0e92f88ba1fb",
   "metadata": {},
   "source": [
    "### Generating Random valued tensors"
   ]
  },
  {
   "cell_type": "markdown",
   "id": "7e47f299-472a-4a6d-9ad2-8662d826d575",
   "metadata": {},
   "source": [
    "##### Using `tf.random.normal`\n",
    "Returns a tensor of the given shape that contains normal random values using the provided mean and standard deviation"
   ]
  },
  {
   "cell_type": "code",
   "execution_count": 24,
   "id": "7c3ab8ea-1a8b-4547-8b22-73e246eeb9fb",
   "metadata": {},
   "outputs": [
    {
     "name": "stdout",
     "output_type": "stream",
     "text": [
      "tf.Tensor(\n",
      "[[1.124 2.336 1.647]\n",
      " [1.697 1.961 2.965]], shape=(2, 3), dtype=float16)\n"
     ]
    }
   ],
   "source": [
    "tensor_random = tf.random.normal(\n",
    "    shape = [2,3],\n",
    "    mean = 2,\n",
    "    stddev = 1,\n",
    "    dtype = tf.float16\n",
    ")\n",
    "print(tensor_random)"
   ]
  },
  {
   "cell_type": "markdown",
   "id": "86fa3472-f009-4c5e-97bf-38bd7b9b0682",
   "metadata": {},
   "source": [
    "##### Using `tf.random.uniform`\n",
    "Returns a tensor of the given shape that contains uniformly distributed random values using the provided min and max values"
   ]
  },
  {
   "cell_type": "code",
   "execution_count": 25,
   "id": "351edb68-dd04-42b8-9ffe-790333c1c3a0",
   "metadata": {},
   "outputs": [
    {
     "name": "stdout",
     "output_type": "stream",
     "text": [
      "tf.Tensor([43 45 19 21 14], shape=(5,), dtype=int32)\n"
     ]
    }
   ],
   "source": [
    "tensor_random = tf.random.uniform(\n",
    "    shape = [5],\n",
    "    minval= 0,\n",
    "    maxval = 50,\n",
    "    dtype = tf.int32\n",
    ")\n",
    "print(tensor_random)"
   ]
  },
  {
   "cell_type": "markdown",
   "id": "50776915-3b23-4134-8bd1-9e8a73e6b5bc",
   "metadata": {},
   "source": [
    "##### Using the `tf.random.set_seed`\n",
    "Used to set the seed such that any random generator when provided with the same seed,\\\n",
    "produces the same set of random values"
   ]
  },
  {
   "cell_type": "code",
   "execution_count": 26,
   "id": "309d2be8-9fe4-48d3-874e-f53f8521041c",
   "metadata": {},
   "outputs": [
    {
     "name": "stdout",
     "output_type": "stream",
     "text": [
      "tf.Tensor([ 8 14 12 20  6], shape=(5,), dtype=int32)\n",
      "tf.Tensor([ 8 12 27  9 32], shape=(5,), dtype=int32)\n",
      "tf.Tensor([22 22 34  7 27], shape=(5,), dtype=int32)\n",
      "tf.Tensor([25 34 19 17 21], shape=(5,), dtype=int32)\n"
     ]
    }
   ],
   "source": [
    "tf.random.set_seed(10)\n",
    "\n",
    "for x in range (4):\n",
    "    random_tensor = tf.random.uniform(shape=[5], minval=5, maxval=35, dtype=tf.int32, seed=10)\n",
    "    print(random_tensor)"
   ]
  },
  {
   "cell_type": "code",
   "execution_count": 27,
   "id": "20c0bddc-2cd2-41e3-b829-141c2c1a852d",
   "metadata": {},
   "outputs": [
    {
     "name": "stdout",
     "output_type": "stream",
     "text": [
      "tf.Tensor([24  5  7  8  7], shape=(5,), dtype=int32)\n",
      "tf.Tensor([33 16 32 31 33], shape=(5,), dtype=int32)\n",
      "tf.Tensor([27 14 15 20 13], shape=(5,), dtype=int32)\n",
      "tf.Tensor([13  5  6 29 27], shape=(5,), dtype=int32)\n"
     ]
    }
   ],
   "source": [
    "# Not Setting the Global seed will not generate the same set of random values as above\n",
    "for x in range (4):\n",
    "    random_tensor = tf.random.uniform(shape=[5], minval=5, maxval=35, dtype=tf.int32, seed=10)\n",
    "    print(random_tensor)"
   ]
  },
  {
   "cell_type": "code",
   "execution_count": 28,
   "id": "1e011569-7e69-4519-a712-3be18bed1f27",
   "metadata": {},
   "outputs": [
    {
     "name": "stdout",
     "output_type": "stream",
     "text": [
      "tf.Tensor([ 8 14 12 20  6], shape=(5,), dtype=int32)\n",
      "tf.Tensor([ 8 12 27  9 32], shape=(5,), dtype=int32)\n",
      "tf.Tensor([22 22 34  7 27], shape=(5,), dtype=int32)\n",
      "tf.Tensor([25 34 19 17 21], shape=(5,), dtype=int32)\n"
     ]
    }
   ],
   "source": [
    "# Setting the seed to the value same as above\n",
    "tf.random.set_seed(10)\n",
    "for x in range (4):\n",
    "    random_tensor = tf.random.uniform(shape=[5], minval=5, maxval=35, dtype=tf.int32, seed=10)\n",
    "    print(random_tensor)"
   ]
  },
  {
   "cell_type": "markdown",
   "id": "162aefb4-f321-46df-9581-5a85b822f2b0",
   "metadata": {},
   "source": [
    "### Indexing tensors"
   ]
  },
  {
   "cell_type": "code",
   "execution_count": 29,
   "id": "8533921a-ca17-4ae2-b6d3-b3a1a325ebbf",
   "metadata": {},
   "outputs": [
    {
     "name": "stdout",
     "output_type": "stream",
     "text": [
      "tf.Tensor([1 2 3 4 5 5], shape=(6,), dtype=int16)\n"
     ]
    }
   ],
   "source": [
    "one_d_tensor = tf.constant([1,2,3,4,5,5,6],dtype=tf.int16)\n",
    "print (one_d_tensor[0:-1])"
   ]
  },
  {
   "cell_type": "code",
   "execution_count": 30,
   "id": "04d2c13a-d2c3-426b-896e-ec4f2c59ba4d",
   "metadata": {},
   "outputs": [
    {
     "name": "stdout",
     "output_type": "stream",
     "text": [
      "tf.Tensor(\n",
      "[[1 2]\n",
      " [2 5]\n",
      " [3 2]], shape=(3, 2), dtype=int32)\n",
      "tf.Tensor([2 5 2 0], shape=(4,), dtype=int32)\n"
     ]
    }
   ],
   "source": [
    "two_d_tensor = tf.constant([\n",
    "    [1,2,3],\n",
    "    [2,5,-8],\n",
    "    [3,2,-8],\n",
    "    [5,0,-4]\n",
    "])\n",
    "\n",
    "# Get the first three rows and first two columns\n",
    "print(two_d_tensor[0:3,0:2])\n",
    "\n",
    "# Get the second colum of every row\n",
    "print(two_d_tensor[...,1])"
   ]
  },
  {
   "cell_type": "markdown",
   "id": "8f7c47ee-0863-439c-873c-6d43d972502a",
   "metadata": {},
   "source": [
    "### Maths"
   ]
  },
  {
   "cell_type": "markdown",
   "id": "38929025-d405-4077-8b9c-937b3ac3b494",
   "metadata": {},
   "source": [
    "#### Absolute values  using the `tf.maths.abs`\n",
    "#### For Real Numbers"
   ]
  },
  {
   "cell_type": "code",
   "execution_count": 32,
   "id": "5fe9a4c0-34e0-426f-8b6a-41e506177819",
   "metadata": {},
   "outputs": [
    {
     "name": "stdout",
     "output_type": "stream",
     "text": [
      "tf.Tensor([ 1  2 -3], shape=(3,), dtype=int32)\n"
     ]
    }
   ],
   "source": [
    "tensor_var = tf.constant([1,2,-3])\n",
    "print(tensor_var)"
   ]
  },
  {
   "cell_type": "code",
   "execution_count": 33,
   "id": "549a8ee6-928a-4442-aeda-82a3cbbc1a1c",
   "metadata": {},
   "outputs": [
    {
     "name": "stdout",
     "output_type": "stream",
     "text": [
      "tf.Tensor([1 2 3], shape=(3,), dtype=int32)\n"
     ]
    }
   ],
   "source": [
    "tensor_abs = tf.math.abs(tensor_var)\n",
    "print(tensor_abs)"
   ]
  },
  {
   "cell_type": "markdown",
   "id": "27a06c65-3319-411f-b408-373cb823d3b7",
   "metadata": {},
   "source": [
    "#### For Complex numbers having the form a + bj\n"
   ]
  },
  {
   "cell_type": "code",
   "execution_count": 34,
   "id": "59db422c-e512-4036-938c-dd89144121ac",
   "metadata": {},
   "outputs": [
    {
     "name": "stdout",
     "output_type": "stream",
     "text": [
      "tf.Tensor([2.+3.j 5.+4.j], shape=(2,), dtype=complex128)\n"
     ]
    }
   ],
   "source": [
    "tensor_var = tf.constant([2+3j,5+4j])\n",
    "print(tensor_var)"
   ]
  },
  {
   "cell_type": "code",
   "execution_count": 35,
   "id": "786ac177-928b-49e9-8faf-25a7a0c74597",
   "metadata": {},
   "outputs": [
    {
     "name": "stdout",
     "output_type": "stream",
     "text": [
      "tf.Tensor([3.60555128 6.40312424], shape=(2,), dtype=float64)\n"
     ]
    }
   ],
   "source": [
    "tensor_abs = tf.math.abs(tensor_var)\n",
    "print(tensor_abs)"
   ]
  },
  {
   "cell_type": "markdown",
   "id": "0476deb6-272d-477b-8300-01d2b9c16129",
   "metadata": {},
   "source": [
    "#### Square Root"
   ]
  },
  {
   "cell_type": "code",
   "execution_count": 36,
   "id": "acd03824-6cad-4535-8be7-4197f81c32c0",
   "metadata": {},
   "outputs": [
    {
     "name": "stdout",
     "output_type": "stream",
     "text": [
      "tf.Tensor([1.67414923+0.89597748j 2.3877944 +0.83759305j], shape=(2,), dtype=complex128)\n"
     ]
    }
   ],
   "source": [
    "print(tf.math.sqrt(tensor_var))"
   ]
  },
  {
   "cell_type": "markdown",
   "id": "6674bec1-c11a-44ae-b26e-514fe2e847ce",
   "metadata": {},
   "source": [
    "#### Basic arithmatic"
   ]
  },
  {
   "cell_type": "code",
   "execution_count": 38,
   "id": "76ecbe9b-6dcb-47d4-92eb-2401a4b15833",
   "metadata": {},
   "outputs": [
    {
     "name": "stdout",
     "output_type": "stream",
     "text": [
      "ADD  tf.Tensor(\n",
      "[[2 4 6]\n",
      " [5 7 9]], shape=(2, 3), dtype=int32)\n",
      "\n",
      "SUB  tf.Tensor(\n",
      "[[ 0  0  0]\n",
      " [-3 -3 -3]], shape=(2, 3), dtype=int32)\n",
      "\n",
      "MUL  tf.Tensor(\n",
      "[[ 1  4  9]\n",
      " [ 4 10 18]], shape=(2, 3), dtype=int32)\n",
      "\n",
      "DIV  tf.Tensor(\n",
      "[[1.   1.   1.  ]\n",
      " [0.25 0.4  0.5 ]], shape=(2, 3), dtype=float64)\n"
     ]
    }
   ],
   "source": [
    "tensor_one = tf.constant([1,2,3])\n",
    "tensor_two = tf.constant(\n",
    "    [\n",
    "        [1,2,3],\n",
    "        [4,5,6]\n",
    "    ]\n",
    ")\n",
    "\n",
    "print(\"ADD \", tf.math.add(tensor_one,tensor_two))\n",
    "print(\"\\nSUB \", tf.math.subtract(tensor_one,tensor_two))\n",
    "print(\"\\nMUL \", tf.math.multiply(tensor_one,tensor_two))\n",
    "print(\"\\nDIV \", tf.math.divide(tensor_one,tensor_two))"
   ]
  },
  {
   "cell_type": "markdown",
   "id": "5a1361ec-a646-4879-a65d-c62834588806",
   "metadata": {},
   "source": [
    "**NOTE**\\\n",
    "Though the dimension of the tensors dont match, arithmatic operation is being done by the concept of `stretching` the lower dimension vtensor to match the dimension of the higer dimension"
   ]
  },
  {
   "cell_type": "markdown",
   "id": "8ac14565-9334-4483-b34b-060dedecc443",
   "metadata": {},
   "source": [
    "#### power \n",
    "using `tf.math.pow`"
   ]
  },
  {
   "cell_type": "code",
   "execution_count": 39,
   "id": "c86a3d99-e3e2-40d5-a1c7-92e3ebab6d4c",
   "metadata": {},
   "outputs": [
    {
     "name": "stdout",
     "output_type": "stream",
     "text": [
      "tf.Tensor(\n",
      "[[  1   4  27]\n",
      " [  1  32 729]], shape=(2, 3), dtype=int32)\n"
     ]
    }
   ],
   "source": [
    "tensor_three = tf.math.pow(tensor_one,tensor_two)\n",
    "print(tensor_three)"
   ]
  },
  {
   "cell_type": "markdown",
   "id": "4c0e28b6-6454-4a25-9773-0da4ca41203e",
   "metadata": {},
   "source": [
    "#### Reduce sum\n",
    "-> Returns the sum of all the elements present within the tensor"
   ]
  },
  {
   "cell_type": "code",
   "execution_count": 41,
   "id": "08b5c07c-7d7f-41d1-8d4c-5fb658f09ea3",
   "metadata": {},
   "outputs": [
    {
     "name": "stdout",
     "output_type": "stream",
     "text": [
      "tf.Tensor(794, shape=(), dtype=int32)\n"
     ]
    }
   ],
   "source": [
    "print(tf.math.reduce_sum(tensor_three))"
   ]
  }
 ],
 "metadata": {
  "kernelspec": {
   "display_name": "Python 3 (ipykernel)",
   "language": "python",
   "name": "python3"
  },
  "language_info": {
   "codemirror_mode": {
    "name": "ipython",
    "version": 3
   },
   "file_extension": ".py",
   "mimetype": "text/x-python",
   "name": "python",
   "nbconvert_exporter": "python",
   "pygments_lexer": "ipython3",
   "version": "3.10.13"
  }
 },
 "nbformat": 4,
 "nbformat_minor": 5
}
