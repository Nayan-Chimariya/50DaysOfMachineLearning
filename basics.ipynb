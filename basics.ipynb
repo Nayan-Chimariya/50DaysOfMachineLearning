{
 "cells": [
  {
   "cell_type": "markdown",
   "id": "cef5aa12-b3fc-44c6-bfd3-2904a79ad30a",
   "metadata": {
    "jp-MarkdownHeadingCollapsed": true
   },
   "source": [
    "### What are Tensors?\n",
    "Tensors are multi-dimensional arrays with a uniform type (called a dtype ).\\\n",
    "They are immutable: you can never update the contents of a tensor, only create a new one."
   ]
  },
  {
   "cell_type": "markdown",
   "id": "6a48759c-4d76-4bbd-b381-3280e7ed66c0",
   "metadata": {},
   "source": [
    "### Creating Tensors in TensorFlow\n",
    "Using the `constant` method"
   ]
  },
  {
   "cell_type": "code",
   "execution_count": 11,
   "id": "29f0a705-f3e5-4829-9b56-1e3c132769a0",
   "metadata": {},
   "outputs": [
    {
     "name": "stdout",
     "output_type": "stream",
     "text": [
      "zero dimentional tensor:  tf.Tensor(4, shape=(), dtype=int32)\n",
      "\n",
      "one dimentional tensor:  tf.Tensor([1 2 3], shape=(3,), dtype=int32)\n",
      "\n",
      "two dimentional tensor:  tf.Tensor(\n",
      "[[ 1  2  3]\n",
      " [ 4  5  6]\n",
      " [-1 -2  6]], shape=(3, 3), dtype=int32)\n",
      "\n",
      "three dimentional tensor:  tf.Tensor(\n",
      "[[[ 1  2  3]\n",
      "  [ 4  5 -6]]\n",
      "\n",
      " [[ 1  2  3]\n",
      "  [ 4  5 -6]]], shape=(2, 2, 3), dtype=int32)\n",
      "\n",
      "four dimentional tensor:  tf.Tensor(\n",
      "[[[[ 1.  2.  3.]\n",
      "   [ 4.  5. -6.]]\n",
      "\n",
      "  [[ 1.  2.  3.]\n",
      "   [ 4.  5. -6.]]]\n",
      "\n",
      "\n",
      " [[[ 1.  2.  3.]\n",
      "   [ 4.  5. -6.]]\n",
      "\n",
      "  [[ 1.  2.  3.]\n",
      "   [ 4.  5. -6.]]]], shape=(2, 2, 2, 3), dtype=float32)\n"
     ]
    }
   ],
   "source": [
    "import tensorflow as tf\n",
    "\n",
    "tensor_zero_d = tf.constant(4)\n",
    "\n",
    "tensor_one_d = tf.constant([1,2,3])\n",
    "\n",
    "tensor_two_d = tf.constant([\n",
    "    [1,2,3],\n",
    "    [4,5,6],\n",
    "    [-1,-2,6]\n",
    "])\n",
    "\n",
    "tensor_three_d = tf.constant([\n",
    "    [\n",
    "        [1,2,3],\n",
    "        [4,5,-6]\n",
    "    ],\n",
    "\n",
    "    [\n",
    "        [1,2,3],\n",
    "        [4,5,-6]\n",
    "    ]\n",
    "])\n",
    "\n",
    "tensor_four_d = tf.constant(\n",
    "    [\n",
    "        [\n",
    "            [\n",
    "                [1,2,3],\n",
    "                [4,5,-6]\n",
    "            ],\n",
    "        \n",
    "            [\n",
    "                [1,2,3],\n",
    "                [4,5,-6]\n",
    "            ]\n",
    "        ],\n",
    "\n",
    "        [\n",
    "            [\n",
    "                [1,2,3],\n",
    "                [4,5,-6]\n",
    "            ],\n",
    "        \n",
    "            [\n",
    "                [1,2,3],\n",
    "                [4,5,-6.]\n",
    "            ]\n",
    "        ]\n",
    "    ]\n",
    ")\n",
    "\n",
    "print(f\"zero dimentional tensor: \",tensor_zero_d)\n",
    "print(f\"\\none dimentional tensor: \",tensor_one_d)\n",
    "print(f\"\\ntwo dimentional tensor: \",tensor_two_d)\n",
    "print(f\"\\nthree dimentional tensor: \",tensor_three_d)\n",
    "print(f\"\\nfour dimentional tensor: \",tensor_four_d)\n"
   ]
  },
  {
   "cell_type": "markdown",
   "id": "f1e451f8-d2b2-401a-9385-99ad050b6a31",
   "metadata": {},
   "source": [
    "### Displaying the properties of tensor\n",
    ". `dtype` -> Displays the type of data the tensor stores\\\n",
    ". `shape` -> Displays the shape of the tensor\\\n",
    ". `ndim`  -> Displays the dimension of the tensor"
   ]
  },
  {
   "cell_type": "code",
   "execution_count": 2,
   "id": "ba24e55f-7293-48c1-b314-d2e7c4375886",
   "metadata": {},
   "outputs": [
    {
     "name": "stdout",
     "output_type": "stream",
     "text": [
      "Data type stored by tensor_four_d :  <dtype: 'float32'>\n",
      "Shape of tensor_two_d :  (3, 3)\n",
      "Dimension of tensor_three_d :  3\n"
     ]
    }
   ],
   "source": [
    "print(\"Data type stored by tensor_four_d : \",tensor_four_d.dtype)\n",
    "print(\"Shape of tensor_two_d : \",tensor_two_d.shape)\n",
    "print(\"Dimension of tensor_three_d : \",tensor_three_d.ndim)\n"
   ]
  },
  {
   "cell_type": "markdown",
   "id": "df800c49-ad7e-440b-b9a0-c1cc68c6ebf4",
   "metadata": {},
   "source": [
    "### Changing the type of the data stored by the tensors\n",
    "Using `tf.cast`"
   ]
  },
  {
   "cell_type": "code",
   "execution_count": 3,
   "id": "b0d13337-452c-4a7d-bfe4-d0307a2f589c",
   "metadata": {},
   "outputs": [
    {
     "name": "stdout",
     "output_type": "stream",
     "text": [
      "Before Type Casting\n",
      " <dtype: 'float32'>\n",
      "\n",
      "After Type Casting\n",
      " <dtype: 'int32'>\n"
     ]
    }
   ],
   "source": [
    "print(\"Before Type Casting\\n\", tensor_four_d.dtype)\n",
    "tensor_four_d = tf.cast(tensor_four_d,tf.int32)\n",
    "print(\"\\nAfter Type Casting\\n\", tensor_four_d.dtype)"
   ]
  },
  {
   "cell_type": "markdown",
   "id": "7ed87cb2-3c6f-435e-abab-d87e240f825a",
   "metadata": {},
   "source": [
    "### Converting a Numpy array to tensor"
   ]
  },
  {
   "cell_type": "code",
   "execution_count": 4,
   "id": "73682f91-66dc-423c-86a1-5ec063440c4f",
   "metadata": {},
   "outputs": [],
   "source": [
    "import numpy as np"
   ]
  },
  {
   "cell_type": "code",
   "execution_count": 5,
   "id": "ad20c317-a54b-4a88-9231-7c65113f3d89",
   "metadata": {},
   "outputs": [
    {
     "name": "stdout",
     "output_type": "stream",
     "text": [
      "[2 3 4]\n",
      "\n",
      " tf.Tensor([2. 3. 4.], shape=(3,), dtype=float16)\n"
     ]
    }
   ],
   "source": [
    "np_array = np.array([2,3,4])\n",
    "print(np_array)\n",
    "\n",
    "tensor_np_array = tf.convert_to_tensor(np_array, dtype=tf.float16)\n",
    "print(\"\\n\",tensor_np_array)"
   ]
  },
  {
   "cell_type": "markdown",
   "id": "95e71d7a-6715-4e29-a148-751cc10f0ed2",
   "metadata": {},
   "source": [
    "### Other useful Methods"
   ]
  },
  {
   "cell_type": "markdown",
   "id": "224d991a-dca4-4c08-9af3-c27820b605af",
   "metadata": {},
   "source": [
    "`tf.eye` - Used to create a identity matrix tenor"
   ]
  },
  {
   "cell_type": "code",
   "execution_count": 6,
   "id": "709585f0-34bd-4fe4-942a-23e10bf9a352",
   "metadata": {},
   "outputs": [
    {
     "data": {
      "text/plain": [
       "<tf.Tensor: shape=(1, 3, 3), dtype=float32, numpy=\n",
       "array([[[1., 0., 0.],\n",
       "        [0., 1., 0.],\n",
       "        [0., 0., 1.]]], dtype=float32)>"
      ]
     },
     "execution_count": 6,
     "metadata": {},
     "output_type": "execute_result"
    }
   ],
   "source": [
    "tf.eye(\n",
    "    num_rows=3,\n",
    "    num_columns=None,\n",
    "    batch_shape=[1],\n",
    "    dtype=tf.dtypes.float32,\n",
    "    name=None\n",
    ")"
   ]
  },
  {
   "cell_type": "markdown",
   "id": "6bba4fb9-0a9c-4a9f-91bd-f66eec427a38",
   "metadata": {},
   "source": [
    "`tf.fill` - Used to create a tensor by defining the dimension and what value to be filled.\\\n",
    "The tensor will contain only the provided value"
   ]
  },
  {
   "cell_type": "code",
   "execution_count": 7,
   "id": "7a348a10-e66f-47aa-a9fe-ae3e102d17f5",
   "metadata": {},
   "outputs": [
    {
     "data": {
      "text/plain": [
       "<tf.Tensor: shape=(2, 3), dtype=int32, numpy=\n",
       "array([[1, 1, 1],\n",
       "       [1, 1, 1]], dtype=int32)>"
      ]
     },
     "execution_count": 7,
     "metadata": {},
     "output_type": "execute_result"
    }
   ],
   "source": [
    "tf.fill(\n",
    "    dims=[2,3], value=1, name=None, layout=None\n",
    ")"
   ]
  },
  {
   "cell_type": "markdown",
   "id": "0a7b7ee8-06b5-46df-a10b-19cebde78eeb",
   "metadata": {},
   "source": [
    "`tf.rank`- Returns the rank of a tensor.\n",
    "\n",
    "The rank of a tensor is not the same as the rank of a matrix.\\\n",
    "The rank of a tensor is the number of indices required to uniquely select each element of\\ the tensor. Rank is also known as \"order\", \"degree\", or \"ndims.\"\n"
   ]
  },
  {
   "cell_type": "code",
   "execution_count": 8,
   "id": "041a68c6-6a55-4c88-b6cf-cf095d4c000c",
   "metadata": {},
   "outputs": [
    {
     "data": {
      "text/plain": [
       "<tf.Tensor: shape=(), dtype=int32, numpy=4>"
      ]
     },
     "execution_count": 8,
     "metadata": {},
     "output_type": "execute_result"
    }
   ],
   "source": [
    "tf.rank(\n",
    "    input=tensor_four_d, name=None\n",
    ")\n",
    "\n",
    "#The rank is displayed in the numpy filed shown below\n",
    "#The shape is not shown as the method returns a 0D tensor"
   ]
  },
  {
   "cell_type": "markdown",
   "id": "a0acda74-16c8-4d5a-94ae-4a471d0f3507",
   "metadata": {},
   "source": [
    "`tf.size` - Returns the size of the tensor"
   ]
  },
  {
   "cell_type": "code",
   "execution_count": 9,
   "id": "6cfd7c5e-cbf4-4dc5-9107-61fa712d652f",
   "metadata": {},
   "outputs": [
    {
     "data": {
      "text/plain": [
       "<tf.Tensor: shape=(), dtype=int32, numpy=24>"
      ]
     },
     "execution_count": 9,
     "metadata": {},
     "output_type": "execute_result"
    }
   ],
   "source": [
    "tf.size(tensor_four_d)"
   ]
  },
  {
   "cell_type": "markdown",
   "id": "e36a9dd4-2cf4-40d3-9ec1-0e92f88ba1fb",
   "metadata": {},
   "source": [
    "### Generating Random valued tensors"
   ]
  },
  {
   "cell_type": "markdown",
   "id": "7e47f299-472a-4a6d-9ad2-8662d826d575",
   "metadata": {},
   "source": [
    "##### Using `tf.random.normal`\n",
    "Returns a tensor of the given shape that contains normal random values using the provided mean and standard deviation"
   ]
  },
  {
   "cell_type": "code",
   "execution_count": 24,
   "id": "7c3ab8ea-1a8b-4547-8b22-73e246eeb9fb",
   "metadata": {},
   "outputs": [
    {
     "name": "stdout",
     "output_type": "stream",
     "text": [
      "tf.Tensor(\n",
      "[[0.6455 2.705  2.037 ]\n",
      " [2.87   2.438  1.466 ]], shape=(2, 3), dtype=float16)\n"
     ]
    }
   ],
   "source": [
    "tensor_random = tf.random.normal(\n",
    "    shape = [2,3],\n",
    "    mean = 2,\n",
    "    stddev = 1,\n",
    "    dtype = tf.float16\n",
    ")\n",
    "print(tensor_random)"
   ]
  },
  {
   "cell_type": "markdown",
   "id": "86fa3472-f009-4c5e-97bf-38bd7b9b0682",
   "metadata": {},
   "source": [
    "##### Using `tf.random.uniform`\n",
    "Returns a tensor of the given shape that contains uniformly distributed random values using the provided min and max values"
   ]
  },
  {
   "cell_type": "code",
   "execution_count": 68,
   "id": "351edb68-dd04-42b8-9ffe-790333c1c3a0",
   "metadata": {},
   "outputs": [
    {
     "name": "stdout",
     "output_type": "stream",
     "text": [
      "tf.Tensor([30 13 26 10 46], shape=(5,), dtype=int32)\n"
     ]
    }
   ],
   "source": [
    "tensor_random = tf.random.uniform(\n",
    "    shape = [5],\n",
    "    minval= 0,\n",
    "    maxval = 50,\n",
    "    dtype = tf.int32\n",
    ")\n",
    "print(tensor_random)"
   ]
  },
  {
   "cell_type": "markdown",
   "id": "50776915-3b23-4134-8bd1-9e8a73e6b5bc",
   "metadata": {},
   "source": [
    "##### Using the `tf.random.set_seed`\n",
    "Used to set the seed such that any random generator when provided with the same seed,\\\n",
    "produces the same set of random values"
   ]
  },
  {
   "cell_type": "code",
   "execution_count": 65,
   "id": "309d2be8-9fe4-48d3-874e-f53f8521041c",
   "metadata": {},
   "outputs": [
    {
     "name": "stdout",
     "output_type": "stream",
     "text": [
      "tf.Tensor([ 8 14 12 20  6], shape=(5,), dtype=int32)\n",
      "tf.Tensor([ 8 12 27  9 32], shape=(5,), dtype=int32)\n",
      "tf.Tensor([22 22 34  7 27], shape=(5,), dtype=int32)\n",
      "tf.Tensor([25 34 19 17 21], shape=(5,), dtype=int32)\n"
     ]
    }
   ],
   "source": [
    "tf.random.set_seed(10)\n",
    "\n",
    "for x in range (4):\n",
    "    random_tensor = tf.random.uniform(shape=[5], minval=5, maxval=35, dtype=tf.int32, seed=10)\n",
    "    print(random_tensor)"
   ]
  },
  {
   "cell_type": "code",
   "execution_count": 66,
   "id": "20c0bddc-2cd2-41e3-b829-141c2c1a852d",
   "metadata": {},
   "outputs": [
    {
     "name": "stdout",
     "output_type": "stream",
     "text": [
      "tf.Tensor([24  5  7  8  7], shape=(5,), dtype=int32)\n",
      "tf.Tensor([33 16 32 31 33], shape=(5,), dtype=int32)\n",
      "tf.Tensor([27 14 15 20 13], shape=(5,), dtype=int32)\n",
      "tf.Tensor([13  5  6 29 27], shape=(5,), dtype=int32)\n"
     ]
    }
   ],
   "source": [
    "# Not Setting the Global seed will not generate the same set of random values as above\n",
    "for x in range (4):\n",
    "    random_tensor = tf.random.uniform(shape=[5], minval=5, maxval=35, dtype=tf.int32, seed=10)\n",
    "    print(random_tensor)"
   ]
  },
  {
   "cell_type": "code",
   "execution_count": 67,
   "id": "1e011569-7e69-4519-a712-3be18bed1f27",
   "metadata": {},
   "outputs": [
    {
     "name": "stdout",
     "output_type": "stream",
     "text": [
      "tf.Tensor([ 8 14 12 20  6], shape=(5,), dtype=int32)\n",
      "tf.Tensor([ 8 12 27  9 32], shape=(5,), dtype=int32)\n",
      "tf.Tensor([22 22 34  7 27], shape=(5,), dtype=int32)\n",
      "tf.Tensor([25 34 19 17 21], shape=(5,), dtype=int32)\n"
     ]
    }
   ],
   "source": [
    "# Setting the seed to the value same as above\n",
    "tf.random.set_seed(10)\n",
    "for x in range (4):\n",
    "    random_tensor = tf.random.uniform(shape=[5], minval=5, maxval=35, dtype=tf.int32, seed=10)\n",
    "    print(random_tensor)"
   ]
  },
  {
   "cell_type": "code",
   "execution_count": null,
   "id": "466d5e26-8060-43ae-bf2d-a2f99562c1cf",
   "metadata": {},
   "outputs": [],
   "source": []
  }
 ],
 "metadata": {
  "kernelspec": {
   "display_name": "Python 3 (ipykernel)",
   "language": "python",
   "name": "python3"
  },
  "language_info": {
   "codemirror_mode": {
    "name": "ipython",
    "version": 3
   },
   "file_extension": ".py",
   "mimetype": "text/x-python",
   "name": "python",
   "nbconvert_exporter": "python",
   "pygments_lexer": "ipython3",
   "version": "3.10.13"
  }
 },
 "nbformat": 4,
 "nbformat_minor": 5
}
